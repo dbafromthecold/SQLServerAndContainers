{
    "metadata": {
        "kernelspec": {
            "name": "powershell",
            "display_name": "PowerShell"
        },
        "language_info": {
            "file_extension": ".ps1",
            "codemirror_mode": "shell",
            "mimetype": "text/x-sh",
            "name": "powershell"
        }
    },
    "nbformat_minor": 2,
    "nbformat": 4,
    "cells": [
        {
            "cell_type": "markdown",
            "source": [
                "# Using Dockerfiles"
            ],
            "metadata": {
                "azdata_cell_guid": "16d4a575-d487-4c26-984f-bc66654cd4e1"
            }
        },
        {
            "cell_type": "markdown",
            "source": [
                "## Check local repository"
            ],
            "metadata": {
                "azdata_cell_guid": "e3a9b516-d447-4430-990e-b18230dff011"
            }
        },
        {
            "cell_type": "code",
            "source": [
                "docker image ls"
            ],
            "metadata": {
                "azdata_cell_guid": "839fb5de-fde6-4b34-8eae-4ec1cc2b247a"
            },
            "outputs": [],
            "execution_count": 1
        },
        {
            "cell_type": "markdown",
            "source": [
                "## Build custom image"
            ],
            "metadata": {
                "azdata_cell_guid": "c86ede0a-0f25-44aa-8499-96f00848a8b1"
            }
        },
        {
            "cell_type": "code",
            "source": [
                "$Filepath = \"~/git/SQLServerAndContainers/Dockerfiles/Dockerfile1\"\n",
                "docker image build -t testimage1 $Filepath"
            ],
            "metadata": {
                "azdata_cell_guid": "4cca6c1f-f4f4-4181-8a98-e43b1fcfab25"
            },
            "outputs": [],
            "execution_count": 2
        },
        {
            "cell_type": "markdown",
            "source": [
                "## Confirm new image"
            ],
            "metadata": {
                "azdata_cell_guid": "e665ad5b-846f-492c-b150-e32811ecba29"
            }
        },
        {
            "cell_type": "code",
            "source": [
                "docker image ls"
            ],
            "metadata": {
                "azdata_cell_guid": "c37ec734-a1bb-4e53-9ada-9d1e66aaa9be"
            },
            "outputs": [],
            "execution_count": 3
        },
        {
            "cell_type": "markdown",
            "source": [
                "## Run container from custom image"
            ],
            "metadata": {
                "azdata_cell_guid": "8749f58d-b7b6-4f67-b6f0-1b8a0f7ab559"
            }
        },
        {
            "cell_type": "code",
            "source": [
                "docker container run -d -p 15555:1433 `\n",
                "--name testcontainer5 `\n",
                "testimage1"
            ],
            "metadata": {
                "azdata_cell_guid": "73c406b1-bb49-494e-abea-dd29c00a38de"
            },
            "outputs": [],
            "execution_count": 4
        },
        {
            "cell_type": "markdown",
            "source": [
                "## Check container is running"
            ],
            "metadata": {
                "azdata_cell_guid": "6532b6ef-878e-4674-93e7-4dcb7a30bd22"
            }
        },
        {
            "cell_type": "code",
            "source": [
                "docker container ls -a"
            ],
            "metadata": {
                "azdata_cell_guid": "18f21f03-b455-4ed9-8e90-c8921b7d9b58"
            },
            "outputs": [],
            "execution_count": 9
        },
        {
            "cell_type": "markdown",
            "source": [
                "## Check databases in SQL instance"
            ],
            "metadata": {
                "azdata_cell_guid": "cddcdaa3-44be-41c6-af31-482aadf2dc0f"
            }
        },
        {
            "cell_type": "code",
            "source": [
                "mssql-cli -S localhost,15555 -U sa -P Testing1122 `\n",
                "-Q \"SELECT name FROM sys.databases;\""
            ],
            "metadata": {
                "azdata_cell_guid": "36e4e4b2-a8d1-4014-bd06-4e9966cb2ffc"
            },
            "outputs": [],
            "execution_count": 11
        },
        {
            "cell_type": "markdown",
            "source": [
                "## Build another custom image from second dockerfile"
            ],
            "metadata": {
                "azdata_cell_guid": "ac563dbc-f683-4155-9d1d-ab1206260b29"
            }
        },
        {
            "cell_type": "code",
            "source": [
                "$Filepath2 = \"~/git/SQLServerAndContainers/Dockerfiles/Dockerfile2\"\n",
                "docker image build -t testimage2 $Filepath2"
            ],
            "metadata": {
                "azdata_cell_guid": "9fe487b6-5368-4293-9d00-a84e0401e0f9"
            },
            "outputs": [],
            "execution_count": 12
        },
        {
            "cell_type": "markdown",
            "source": [
                "## Verify new custom image"
            ],
            "metadata": {
                "azdata_cell_guid": "326308fc-b1cf-41b5-a070-fddc34e9afff"
            }
        },
        {
            "cell_type": "code",
            "source": [
                "docker image ls"
            ],
            "metadata": {
                "azdata_cell_guid": "a6216b6d-f42f-43f3-bb6e-b22a92411a60"
            },
            "outputs": [],
            "execution_count": 13
        },
        {
            "cell_type": "markdown",
            "source": [
                "## Run container form second custom image"
            ],
            "metadata": {
                "azdata_cell_guid": "bb77cf29-f280-4431-b2ab-d3759285557f"
            }
        },
        {
            "cell_type": "code",
            "source": [
                "docker container run -d -p 15666:15666 `\n",
                "--env SA_PASSWORD=Testing1122 `\n",
                "--name testcontainer6 `\n",
                "testimage2"
            ],
            "metadata": {
                "azdata_cell_guid": "38ee98da-fb0f-4a17-aeb0-4375c3ccfdaf"
            },
            "outputs": [],
            "execution_count": 14
        },
        {
            "cell_type": "markdown",
            "source": [
                "## Verfiy new container is running"
            ],
            "metadata": {
                "azdata_cell_guid": "a58a0ba8-e512-4494-894f-f07afca5a49c"
            }
        },
        {
            "cell_type": "code",
            "source": [
                "docker container ls -a"
            ],
            "metadata": {
                "azdata_cell_guid": "4419f9c1-e931-45cb-bd59-aacf5e312409"
            },
            "outputs": [],
            "execution_count": 25
        },
        {
            "cell_type": "markdown",
            "source": [
                "## Connect to SQL instance in new container"
            ],
            "metadata": {
                "azdata_cell_guid": "2d5b6dca-5619-41c2-b276-8b6bfffad3f7"
            }
        },
        {
            "cell_type": "code",
            "source": [
                "mssql-cli -S localhost,15666 -U sa -P Testing1122 `\n",
                "-Q \"SELECT name from sys.databases;\""
            ],
            "metadata": {
                "azdata_cell_guid": "9ea54cc2-7c7f-4e2c-9afe-58e4cbffd116"
            },
            "outputs": [],
            "execution_count": 26
        },
        {
            "cell_type": "markdown",
            "source": [
                "## Clean up"
            ],
            "metadata": {
                "azdata_cell_guid": "807c6bb3-816f-4e11-be65-96f5e3bf37fd"
            }
        },
        {
            "cell_type": "code",
            "source": [
                "docker container rm $(docker ps -a -q) -f\n",
                "docker image rm testimage2"
            ],
            "metadata": {
                "azdata_cell_guid": "66c6bc41-136e-4b16-a28f-813ec96071cf"
            },
            "outputs": [],
            "execution_count": 27
        }
    ]
}