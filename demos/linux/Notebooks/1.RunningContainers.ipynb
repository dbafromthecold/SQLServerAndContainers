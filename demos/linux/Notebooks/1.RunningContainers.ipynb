{
    "metadata": {
        "kernelspec": {
            "name": "powershell",
            "display_name": "PowerShell"
        },
        "language_info": {
            "file_extension": ".ps1",
            "codemirror_mode": "shell",
            "name": "powershell",
            "mimetype": "text/x-sh"
        }
    },
    "nbformat_minor": 2,
    "nbformat": 4,
    "cells": [
        {
            "cell_type": "markdown",
            "source": [
                "# Running Containers"
            ],
            "metadata": {
                "azdata_cell_guid": "b5a09660-e26a-4ff2-8f3b-34e188b132ba",
                "tags": [
                    "hide_input"
                ]
            }
        },
        {
            "cell_type": "markdown",
            "source": [
                "## Verify docker service is running"
            ],
            "metadata": {
                "azdata_cell_guid": "90a88c97-15c5-4586-9165-dd7f5c9c6df2",
                "tags": [
                    "hide_input"
                ]
            }
        },
        {
            "cell_type": "code",
            "source": [
                "systemctl status docker.service"
            ],
            "metadata": {
                "azdata_cell_guid": "9e674a8f-28bd-4e96-82ed-8c268cb3a3d6",
                "tags": [
                    "hide_input"
                ]
            },
            "outputs": [],
            "execution_count": 1
        },
        {
            "cell_type": "markdown",
            "source": [
                "## Confirm docker version"
            ],
            "metadata": {
                "azdata_cell_guid": "502db1b2-db6d-40b7-8fa0-eea32a49ffda",
                "tags": [
                    "hide_input"
                ]
            }
        },
        {
            "cell_type": "code",
            "source": [
                "docker version"
            ],
            "metadata": {
                "azdata_cell_guid": "cb0e3d8a-b5c8-49b9-833f-afa3b5ab0865",
                "tags": [
                    "hide_input"
                ]
            },
            "outputs": [],
            "execution_count": 2
        },
        {
            "cell_type": "markdown",
            "source": [
                "## Search for an image on the docker hub"
            ],
            "metadata": {
                "azdata_cell_guid": "219c3834-3ed9-42e2-8d90-cd7af04edef3",
                "tags": [
                    "hide_input"
                ]
            }
        },
        {
            "cell_type": "code",
            "source": [
                "docker search mssql"
            ],
            "metadata": {
                "azdata_cell_guid": "7c17196c-9a9b-4526-a49a-56bdc404a522",
                "tags": [
                    "hide_input"
                ]
            },
            "outputs": [],
            "execution_count": 3
        },
        {
            "cell_type": "markdown",
            "source": [
                "## Get tags from Microsoft Container Registry"
            ],
            "metadata": {
                "azdata_cell_guid": "71aabbe4-ac66-42f5-8354-ef7bc0545cf1",
                "tags": [
                    "hide_input"
                ]
            }
        },
        {
            "cell_type": "code",
            "source": [
                "$repo = invoke-webrequest https://mcr.microsoft.com/v2/mssql/server/tags/list -UseBasicParsing\n",
                "$repo.content"
            ],
            "metadata": {
                "azdata_cell_guid": "20beaeaf-853b-47de-9a2b-e9030e2c285b",
                "tags": []
            },
            "outputs": [],
            "execution_count": 4
        },
        {
            "cell_type": "markdown",
            "source": [
                "## Pull image down locally"
            ],
            "metadata": {
                "azdata_cell_guid": "2dd3e870-7cb8-457a-9d42-b3c4c0082d9e",
                "tags": [
                    "hide_input"
                ]
            }
        },
        {
            "cell_type": "code",
            "source": [
                "docker image pull mcr.microsoft.com/mssql/server:2019-GDR1-ubuntu-16.04"
            ],
            "metadata": {
                "azdata_cell_guid": "a6957250-bdd1-47d8-9bc3-2e4e1bd5898f",
                "tags": [
                    "hide_input"
                ]
            },
            "outputs": [],
            "execution_count": 5
        },
        {
            "cell_type": "markdown",
            "source": [
                "## Check local images"
            ],
            "metadata": {
                "azdata_cell_guid": "58c7186c-7595-4363-b6ac-dacc3aa14c08",
                "tags": [
                    "hide_input"
                ]
            }
        },
        {
            "cell_type": "code",
            "source": [
                "docker image ls"
            ],
            "metadata": {
                "azdata_cell_guid": "878d916e-99a3-4e5e-b939-a17db57750e7",
                "tags": [
                    "hide_input"
                ]
            },
            "outputs": [],
            "execution_count": 6
        },
        {
            "cell_type": "markdown",
            "source": [
                "## Run a container"
            ],
            "metadata": {
                "azdata_cell_guid": "11137ad3-5e7f-4341-b7d0-497b5a1da66f",
                "tags": [
                    "hide_input"
                ]
            }
        },
        {
            "cell_type": "code",
            "source": [
                "docker container run -d -p 15111:1433 `\n",
                "--env ACCEPT_EULA=Y `\n",
                "--env SA_PASSWORD=Testing1122 `\n",
                "--name testcontainer1 `\n",
                "mcr.microsoft.com/mssql/server:2019-GDR1-ubuntu-16.04"
            ],
            "metadata": {
                "azdata_cell_guid": "e01c8ecf-6d84-45ee-8a5f-75b39adc1d83",
                "tags": []
            },
            "outputs": [],
            "execution_count": 7
        },
        {
            "cell_type": "markdown",
            "source": [
                "# Verify container is running"
            ],
            "metadata": {
                "azdata_cell_guid": "5ac52249-67b8-4b94-b541-e282486332cf",
                "tags": [
                    "hide_input"
                ]
            }
        },
        {
            "cell_type": "code",
            "source": [
                "docker container ls -a"
            ],
            "metadata": {
                "azdata_cell_guid": "3284b525-5f37-40eb-839d-49f9a22c2d8b",
                "tags": [
                    "hide_input"
                ]
            },
            "outputs": [],
            "execution_count": 8
        },
        {
            "cell_type": "markdown",
            "source": [
                "## Check container logs"
            ],
            "metadata": {
                "azdata_cell_guid": "43cd1183-f2a4-4b82-8412-c66cdc178baf",
                "tags": [
                    "hide_input"
                ]
            }
        },
        {
            "cell_type": "code",
            "source": [
                "docker container logs testcontainer1"
            ],
            "metadata": {
                "azdata_cell_guid": "285ed610-34cc-40da-b57a-1de5633960e2",
                "tags": [
                    "hide_input"
                ]
            },
            "outputs": [],
            "execution_count": 9
        },
        {
            "cell_type": "markdown",
            "source": [
                "## Connect to SQL instance and confirm version"
            ],
            "metadata": {
                "azdata_cell_guid": "83522eed-da73-4b7a-9b36-37e0e71ff8d0",
                "tags": [
                    "hide_input"
                ]
            }
        },
        {
            "cell_type": "code",
            "source": [
                "mssql-cli -S 'localhost,15111' -U sa -P Testing1122 -Q \"SELECT @@VERSION;\""
            ],
            "metadata": {
                "azdata_cell_guid": "d6f7cc05-b3ba-40c0-84a7-b114ab6dd8b1",
                "tags": [
                    "hide_input"
                ]
            },
            "outputs": [],
            "execution_count": 10
        },
        {
            "cell_type": "code",
            "source": [
                "# let's have a look within the container\n",
                "docker container exec testcontainer1 bash -c \"ls /var/opt/mssql/data/\""
            ],
            "metadata": {
                "azdata_cell_guid": "7d98892a-8c1c-4213-8485-52d9a4cf1f48",
                "tags": []
            },
            "outputs": [],
            "execution_count": 11
        },
        {
            "cell_type": "markdown",
            "source": [
                "## Copy a backup file into the container"
            ],
            "metadata": {
                "azdata_cell_guid": "f9911bc2-4cc2-40ef-9d2a-df949a5ea3e7",
                "tags": [
                    "hide_input"
                ]
            }
        },
        {
            "cell_type": "code",
            "source": [
                "docker container cp ~/git/SQLServerAndContainers/DatabaseBackup/DatabaseA.bak `\n",
                "        testcontainer1:/var/opt/mssql/data/"
            ],
            "metadata": {
                "azdata_cell_guid": "a7813432-d234-4a13-b688-97bde89c3339",
                "tags": []
            },
            "outputs": [],
            "execution_count": 12
        },
        {
            "cell_type": "markdown",
            "source": [
                "## Check that the backup file has been copied into the container"
            ],
            "metadata": {
                "azdata_cell_guid": "86501299-0fc7-45af-b274-52d13cdad827"
            }
        },
        {
            "cell_type": "code",
            "source": [
                "docker container exec testcontainer1 bash -c \"ls /var/opt/mssql/data\""
            ],
            "metadata": {
                "azdata_cell_guid": "403b5527-9ff5-4994-b3a2-6b420940104b",
                "tags": []
            },
            "outputs": [],
            "execution_count": 13
        },
        {
            "cell_type": "markdown",
            "source": [
                "## Restore the database in the container"
            ],
            "metadata": {
                "azdata_cell_guid": "10aa856f-3d54-4e75-a010-4509b0b20e67"
            }
        },
        {
            "cell_type": "code",
            "source": [
                "mssql-cli -S 'localhost,15111' -U sa -P Testing1122 `\n",
                "-Q \"RESTORE DATABASE [DatabaseA] FROM DISK = '/var/opt/mssql/data/DatabaseA.bak';\""
            ],
            "metadata": {
                "azdata_cell_guid": "c33eb107-389e-4e48-8811-85ed97d92eff",
                "tags": []
            },
            "outputs": [],
            "execution_count": 14
        },
        {
            "cell_type": "markdown",
            "source": [
                "## Check that the database has been restored"
            ],
            "metadata": {
                "azdata_cell_guid": "254f6bfe-b123-4061-9de6-c9cfdcfb52e2"
            }
        },
        {
            "cell_type": "code",
            "source": [
                "mssql-cli -S 'localhost,15111' -U sa -P Testing1122 `\n",
                "-Q \"select name from sys.databases;\""
            ],
            "metadata": {
                "azdata_cell_guid": "a7feaf01-2192-40e5-97c5-bcb23902857b"
            },
            "outputs": [],
            "execution_count": 15
        },
        {
            "cell_type": "markdown",
            "source": [
                "## Run a couple more of containers"
            ],
            "metadata": {
                "azdata_cell_guid": "586b950f-c1de-46c2-86c0-61aa34649d7c",
                "tags": [
                    "hide_input"
                ]
            }
        },
        {
            "cell_type": "code",
            "source": [
                "docker container run -d -p 15222:1433 `\n",
                "--env ACCEPT_EULA=Y `\n",
                "--env SA_PASSWORD=Testing1122 `\n",
                "--name testcontainer2 `\n",
                "mcr.microsoft.com/mssql/server:2019-GDR1-ubuntu-16.04\n",
                "\n",
                "docker container run -d -p 15333:1433 `\n",
                "--env ACCEPT_EULA=Y `\n",
                "--env SA_PASSWORD=Testing1122 `\n",
                "--name testcontainer3 `\n",
                "mcr.microsoft.com/mssql/server:2019-GDR1-ubuntu-16.04"
            ],
            "metadata": {
                "azdata_cell_guid": "b0c1111c-bea0-434f-8299-8ce15223cae8",
                "tags": []
            },
            "outputs": [],
            "execution_count": 16
        },
        {
            "cell_type": "markdown",
            "source": [
                "## Verify containers are running"
            ],
            "metadata": {
                "azdata_cell_guid": "7e3ffc99-ef9b-452b-8729-3b17926926ab",
                "tags": [
                    "hide_input"
                ]
            }
        },
        {
            "cell_type": "code",
            "source": [
                "docker container ls -a"
            ],
            "metadata": {
                "azdata_cell_guid": "6bb40a52-45cd-4158-8fb6-947a0d6c61bf",
                "tags": []
            },
            "outputs": [],
            "execution_count": 17
        },
        {
            "cell_type": "markdown",
            "source": [
                "## View stats on container usage"
            ],
            "metadata": {
                "azdata_cell_guid": "760af046-127a-4504-a0a0-42fd129fe522"
            }
        },
        {
            "cell_type": "code",
            "source": [
                "docker container stats --no-stream"
            ],
            "metadata": {
                "azdata_cell_guid": "98f8e375-784a-4c53-b66d-add20b72d87b",
                "tags": []
            },
            "outputs": [],
            "execution_count": 18
        },
        {
            "cell_type": "markdown",
            "source": [
                "## Run a container with resources limited"
            ],
            "metadata": {
                "azdata_cell_guid": "4f1f1962-ef74-45d5-bc15-d8c8e86d7ab3",
                "tags": [
                    "hide_input"
                ]
            }
        },
        {
            "cell_type": "code",
            "source": [
                "docker container run -d -p 15444:1433 `\n",
                "--cpus=2 --memory=2048m `\n",
                "--env ACCEPT_EULA=Y --env SA_PASSWORD=Testing1122 `\n",
                "--name testcontainer4 `\n",
                "mcr.microsoft.com/mssql/server:2019-GDR1-ubuntu-16.04"
            ],
            "metadata": {
                "azdata_cell_guid": "6114c7d1-141d-4ebb-90f1-307220ef17bd",
                "tags": []
            },
            "outputs": [],
            "execution_count": 20
        },
        {
            "cell_type": "markdown",
            "source": [
                "## Check container is running"
            ],
            "metadata": {
                "azdata_cell_guid": "278ac392-46a0-49f0-aad0-54a78a933efe",
                "tags": [
                    "hide_input"
                ]
            }
        },
        {
            "cell_type": "code",
            "source": [
                "docker container ls -a"
            ],
            "metadata": {
                "azdata_cell_guid": "2a33e585-e44d-467d-b971-c0ec38d33e00",
                "tags": []
            },
            "outputs": [],
            "execution_count": 21
        },
        {
            "cell_type": "markdown",
            "source": [
                "## Check the stats"
            ],
            "metadata": {
                "azdata_cell_guid": "9ca93532-998b-4cd8-b50f-832bf9834658"
            }
        },
        {
            "cell_type": "code",
            "source": [
                "docker container stats --no-stream"
            ],
            "metadata": {
                "azdata_cell_guid": "231172ca-193e-4a96-ac07-bc5aef5b1485",
                "tags": []
            },
            "outputs": [],
            "execution_count": 22
        },
        {
            "cell_type": "markdown",
            "source": [
                "## Clean up"
            ],
            "metadata": {
                "azdata_cell_guid": "4ad1638a-1bc9-4dd7-b0be-26eb8f504115",
                "tags": [
                    "hide_input"
                ]
            }
        },
        {
            "cell_type": "code",
            "source": [
                "docker container rm $(docker ps -a -q) -f"
            ],
            "metadata": {
                "azdata_cell_guid": "5698619e-529a-4469-bf27-13d85bda4220",
                "tags": []
            },
            "outputs": [],
            "execution_count": 23
        }
    ]
}