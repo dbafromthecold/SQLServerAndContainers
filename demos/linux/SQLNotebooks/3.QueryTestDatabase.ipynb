{
    "metadata": {
        "kernelspec": {
            "name": "SQL",
            "display_name": "SQL",
            "language": "sql"
        },
        "language_info": {
            "name": "sql",
            "version": ""
        }
    },
    "nbformat_minor": 2,
    "nbformat": 4,
    "cells": [
        {
            "cell_type": "markdown",
            "source": "# Confirm test database is there",
            "metadata": {}
        },
        {
            "cell_type": "code",
            "source": "USE [master];\nGO\n\nSELECT [name] FROM sys.databases;\nGO",
            "metadata": {},
            "outputs": [],
            "execution_count": 1
        },
        {
            "cell_type": "markdown",
            "source": "# Confirm test table is there",
            "metadata": {}
        },
        {
            "cell_type": "code",
            "source": "USE [testdatabase];\nGO\n\nSELECT [name] FROM sys.tables;\nGO",
            "metadata": {},
            "outputs": [],
            "execution_count": 2
        },
        {
            "cell_type": "markdown",
            "source": "# Confirm data is still there",
            "metadata": {}
        },
        {
            "cell_type": "code",
            "source": "USE [testdatabase];\nGO\n\nSELECT COUNT(*) FROM dbo.testtable;\nGO",
            "metadata": {},
            "outputs": [],
            "execution_count": 3
        }
    ]
}}