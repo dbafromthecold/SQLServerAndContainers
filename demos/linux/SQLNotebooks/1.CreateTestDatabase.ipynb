{
    "metadata": {
        "kernelspec": {
            "name": "SQL",
            "display_name": "SQL",
            "language": "sql"
        },
        "language_info": {
            "name": "sql",
            "version": ""
        }
    },
    "nbformat_minor": 2,
    "nbformat": 4,
    "cells": [
        {
            "cell_type": "markdown",
            "source": "# Create test database",
            "metadata": {}
        },
        {
            "cell_type": "code",
            "source": "USE [master];\nGO\n\nCREATE DATABASE [testdatabase]\nON PRIMARY\n    (NAME = N'testdatabase', FILENAME = N'/var/opt/sqlserver/testdatabase.mdf')\nLOG ON\n    (NAME = N'testdatabase_log', FILENAME = N'/var/opt/sqlserver/testdatabase_log.ldf');",
            "metadata": {},
            "outputs": [],
            "execution_count": 5
        },
        {
            "cell_type": "markdown",
            "source": "# Confirm database is there",
            "metadata": {}
        },
        {
            "cell_type": "code",
            "source": "USE [master];\nGO\n\nSELECT [name] FROM sys.databases;\nGO",
            "metadata": {},
            "outputs": [],
            "execution_count": 6
        },
        {
            "cell_type": "markdown",
            "source": "# Create test table and insert data",
            "metadata": {}
        },
        {
            "cell_type": "code",
            "source": "USE [testdatabase];\nGO\n\nCREATE TABLE dbo.testtable(ID INT);\nGO\n\nINSERT INTO dbo.testtable(ID) SELECT TOP 200 1 FROM sys.all_columns;\nGO",
            "metadata": {},
            "outputs": [],
            "execution_count": 7
        },
        {
            "cell_type": "markdown",
            "source": "# Confirm data insert",
            "metadata": {}
        },
        {
            "cell_type": "code",
            "source": "USE [testdatabase];\nGO\n\nSELECT COUNT(*) FROM dbo.testtable;\nGO",
            "metadata": {},
            "outputs": [],
            "execution_count": 9
        }
    ]
}}