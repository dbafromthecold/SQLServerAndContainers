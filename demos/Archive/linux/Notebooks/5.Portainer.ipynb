{
    "metadata": {
        "kernelspec": {
            "name": "powershell",
            "display_name": "PowerShell"
        },
        "language_info": {
            "name": "powershell",
            "file_extension": ".ps1",
            "codemirror_mode": "shell",
            "mimetype": "text/x-sh"
        }
    },
    "nbformat_minor": 2,
    "nbformat": 4,
    "cells": [
        {
            "cell_type": "markdown",
            "source": [
                "# Portainer\n",
                "\n",
                "https://portainer.io/\n",
                "\n",
                ""
            ],
            "metadata": {
                "azdata_cell_guid": "b45e86dd-5b90-44c6-bb36-351011b8764c"
            }
        },
        {
            "cell_type": "markdown",
            "source": [
                "## Search for the image"
            ],
            "metadata": {
                "azdata_cell_guid": "245c9321-30b2-4064-88b2-eea8b61121f5"
            }
        },
        {
            "cell_type": "code",
            "source": [
                "docker search portainer"
            ],
            "metadata": {
                "azdata_cell_guid": "f1f742f1-1c74-438c-88d6-ac8d36531a3c"
            },
            "outputs": [],
            "execution_count": 1
        },
        {
            "cell_type": "markdown",
            "source": [
                "## Pull the image down"
            ],
            "metadata": {
                "azdata_cell_guid": "3ffc5c50-ec64-4560-a1c4-e9c8beeb93c9"
            }
        },
        {
            "cell_type": "code",
            "source": [
                "docker pull portainer/portainer"
            ],
            "metadata": {
                "azdata_cell_guid": "751a607c-054b-456e-bebd-7d7fda05b953"
            },
            "outputs": [],
            "execution_count": 4
        },
        {
            "cell_type": "markdown",
            "source": [
                "## Confirm image is there"
            ],
            "metadata": {
                "azdata_cell_guid": "d72829e6-75f2-4512-90f7-02f870ad29bc"
            }
        },
        {
            "cell_type": "code",
            "source": [
                "docker image ls"
            ],
            "metadata": {
                "azdata_cell_guid": "3d044c96-dfea-4636-a78b-1cfa7cb16a93"
            },
            "outputs": [],
            "execution_count": 5
        },
        {
            "cell_type": "markdown",
            "source": [
                "## Run a container"
            ],
            "metadata": {
                "azdata_cell_guid": "15d92c16-3c17-4d20-bc84-8d4553c3cd9c"
            }
        },
        {
            "cell_type": "code",
            "source": [
                "docker container run -d -p 9000:9000 `\n",
                "-v /var/run/docker.sock:/var/run/docker.sock `\n",
                "--name portainer1 portainer/portainer"
            ],
            "metadata": {
                "azdata_cell_guid": "ac51679f-8053-49b6-9c98-5bfd98362696"
            },
            "outputs": [],
            "execution_count": 6
        },
        {
            "cell_type": "markdown",
            "source": [
                "## Confirm container is running"
            ],
            "metadata": {
                "azdata_cell_guid": "e8baa9a9-6335-4e98-bbb4-f46eec18de20"
            }
        },
        {
            "cell_type": "code",
            "source": [
                "docker container ls -a"
            ],
            "metadata": {
                "azdata_cell_guid": "bd00e7fa-6aa5-4719-a38e-50f40a4f1add"
            },
            "outputs": [],
            "execution_count": 7
        },
        {
            "cell_type": "markdown",
            "source": [
                "## Run a command against SQL in the container"
            ],
            "metadata": {
                "azdata_cell_guid": "3463e016-a6a8-4a9d-b52b-cc3197ade22f"
            }
        },
        {
            "cell_type": "code",
            "source": [
                "mssql-cli -S localhost,15789 -U sa -P Testing1122 `\n",
                "-Q \"SELECT @@VERSION;\""
            ],
            "metadata": {
                "azdata_cell_guid": "a67ce8fc-fd1a-46de-b029-65b80cc16b67"
            },
            "outputs": [],
            "execution_count": 8
        },
        {
            "cell_type": "markdown",
            "source": [
                "## Clean up"
            ],
            "metadata": {
                "azdata_cell_guid": "558c6354-49b2-4aa0-89bb-3eb0a1163d5c"
            }
        },
        {
            "cell_type": "code",
            "source": [
                "docker container kill portainer1 testcontainer \n",
                "docker container rm portainer1 testcontainer"
            ],
            "metadata": {
                "azdata_cell_guid": "75b6c3da-8a21-4449-82dc-56ce0197a565"
            },
            "outputs": [],
            "execution_count": 9
        }
    ]
}