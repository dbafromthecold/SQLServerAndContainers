{
    "metadata": {
        "kernelspec": {
            "name": "powershell",
            "display_name": "PowerShell"
        },
        "language_info": {
            "mimetype": "text/x-sh",
            "codemirror_mode": "shell",
            "file_extension": ".ps1",
            "name": "powershell"
        }
    },
    "nbformat_minor": 2,
    "nbformat": 4,
    "cells": [
        {
            "cell_type": "markdown",
            "source": [
                "# Sharing Docker images"
            ],
            "metadata": {
                "azdata_cell_guid": "166a89de-3d6f-4c34-8e61-311013aaa3d1"
            }
        },
        {
            "cell_type": "markdown",
            "source": [
                "## Log into the docker hub"
            ],
            "metadata": {
                "azdata_cell_guid": "931f55f4-5fad-44d5-b7df-f2413041cbc4"
            }
        },
        {
            "cell_type": "code",
            "source": [
                "$Password = Get-Content /home/dbafromthecold/git/SQLServerAndContainers/dockerlogin.txt\n",
                "docker login --username dbafromthecold --password $Password"
            ],
            "metadata": {
                "azdata_cell_guid": "2e2ce6c8-02f4-493a-b833-6c091ed2d1a5"
            },
            "outputs": [],
            "execution_count": 1
        },
        {
            "cell_type": "markdown",
            "source": [
                "## Check images"
            ],
            "metadata": {
                "azdata_cell_guid": "36c985c2-9c2f-46ee-acd4-9027231f997f"
            }
        },
        {
            "cell_type": "code",
            "source": [
                "docker image ls"
            ],
            "metadata": {
                "azdata_cell_guid": "429c3305-59ee-4c54-9973-03b08af49042"
            },
            "outputs": [],
            "execution_count": 2
        },
        {
            "cell_type": "markdown",
            "source": [
                "## Tag custom image with remote repository name"
            ],
            "metadata": {
                "azdata_cell_guid": "3125eeb5-e01b-4730-92d0-556b458c0e0b"
            }
        },
        {
            "cell_type": "code",
            "source": [
                "docker image tag testimage1 dbafromthecold/testsqlrepository:linuxdemo"
            ],
            "metadata": {
                "azdata_cell_guid": "ea7b1f91-d732-4154-9e00-69c260d31298"
            },
            "outputs": [],
            "execution_count": 3
        },
        {
            "cell_type": "markdown",
            "source": [
                "## Verify image has been tagged"
            ],
            "metadata": {
                "azdata_cell_guid": "533eb584-e4c1-42ea-b526-83a4f99c3041"
            }
        },
        {
            "cell_type": "code",
            "source": [
                "docker image ls"
            ],
            "metadata": {
                "azdata_cell_guid": "ff7a8eb2-5460-49b9-a9a8-132b107263cf"
            },
            "outputs": [],
            "execution_count": 4
        },
        {
            "cell_type": "markdown",
            "source": [
                "## Push image to the hub"
            ],
            "metadata": {
                "azdata_cell_guid": "9febc10e-9777-4a06-abf6-bfa29965b33f"
            }
        },
        {
            "cell_type": "code",
            "source": [
                "docker image push dbafromthecold/testsqlrepository:linuxdemo"
            ],
            "metadata": {
                "azdata_cell_guid": "94dbe3d3-1ab7-41fb-9ba4-494258ab4ae8"
            },
            "outputs": [],
            "execution_count": 5
        },
        {
            "cell_type": "markdown",
            "source": [
                "## Search remote repositories"
            ],
            "metadata": {
                "azdata_cell_guid": "a6e075dc-70e4-4d2b-8399-353a5da35370"
            }
        },
        {
            "cell_type": "code",
            "source": [
                "docker search dbafromthecold"
            ],
            "metadata": {
                "azdata_cell_guid": "04378cad-b400-47a0-bee7-3d8b71862c50"
            },
            "outputs": [],
            "execution_count": 6
        },
        {
            "cell_type": "markdown",
            "source": [
                "## Clean up"
            ],
            "metadata": {
                "azdata_cell_guid": "5cc064d8-2612-4ccb-8ecd-95b8df133caf"
            }
        },
        {
            "cell_type": "code",
            "source": [
                "docker image rm dbafromthecold/testsqlrepository:linuxdemo testimage1"
            ],
            "metadata": {
                "azdata_cell_guid": "f5145c9a-1884-4686-abef-cc24fa79034c"
            },
            "outputs": [],
            "execution_count": 7
        }
    ]
}