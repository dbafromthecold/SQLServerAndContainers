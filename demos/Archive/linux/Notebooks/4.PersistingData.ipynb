{
    "metadata": {
        "kernelspec": {
            "name": "powershell",
            "display_name": "PowerShell"
        },
        "language_info": {
            "name": "powershell",
            "file_extension": ".ps1",
            "codemirror_mode": "shell",
            "mimetype": "text/x-sh"
        }
    },
    "nbformat_minor": 2,
    "nbformat": 4,
    "cells": [
        {
            "cell_type": "markdown",
            "source": [
                "# Persisting data - Named Volumes"
            ],
            "metadata": {
                "azdata_cell_guid": "b30d6c93-d72b-45cd-8a7a-c330b82fac5e"
            }
        },
        {
            "cell_type": "markdown",
            "source": [
                "## Remove unused volumes"
            ],
            "metadata": {
                "azdata_cell_guid": "e78feb9c-3873-4f10-96bd-3ce81563a4a0"
            }
        },
        {
            "cell_type": "code",
            "source": [
                "docker volume prune -f"
            ],
            "metadata": {
                "azdata_cell_guid": "0ab1cb61-8a15-4518-a6ed-7d452a8a4fef"
            },
            "outputs": [],
            "execution_count": 6
        },
        {
            "cell_type": "markdown",
            "source": [
                "## Create the named volume"
            ],
            "metadata": {
                "azdata_cell_guid": "aa03b444-768d-42d8-9f83-2932d23a05f2"
            }
        },
        {
            "cell_type": "code",
            "source": [
                "docker volume create sqlserver"
            ],
            "metadata": {
                "azdata_cell_guid": "5bd8f414-0890-4888-abcf-deff4d98cd24"
            },
            "outputs": [],
            "execution_count": 7
        },
        {
            "cell_type": "markdown",
            "source": [
                "## Verify named volume is there"
            ],
            "metadata": {
                "azdata_cell_guid": "e09e4058-3c53-41f6-bf68-71a6c1130eec"
            }
        },
        {
            "cell_type": "code",
            "source": [
                "docker volume ls"
            ],
            "metadata": {
                "azdata_cell_guid": "87fe45e5-e172-4c6d-b50b-12c81eda4bc8"
            },
            "outputs": [],
            "execution_count": 8
        },
        {
            "cell_type": "markdown",
            "source": [
                "## Spin up container with volume mapped"
            ],
            "metadata": {
                "azdata_cell_guid": "48c79ae4-09d1-49d4-88c2-a292e9e8d12c"
            }
        },
        {
            "cell_type": "code",
            "source": [
                "docker container run -d -p 15999:1433 `\n",
                "--volume sqlserver:/var/opt/sqlserver `\n",
                "--env ACCEPT_EULA=Y `\n",
                "--env SA_PASSWORD=Testing1122 `\n",
                "--env MSSQL_DATA_DIR=/var/opt/sqlserver `\n",
                "--env MSSQL_LOG_DIR=/var/opt/sqlserver `\n",
                "--name testcontainer9 `\n",
                "mcr.microsoft.com/mssql/server:2019-GDR1-ubuntu-16.04"
            ],
            "metadata": {
                "azdata_cell_guid": "a7e55531-12f3-486c-bb68-651b7606125d"
            },
            "outputs": [],
            "execution_count": 9
        },
        {
            "cell_type": "markdown",
            "source": [
                "## Check the container is running"
            ],
            "metadata": {
                "azdata_cell_guid": "ddd71645-c9e0-4181-9fb0-e2e3bc8ddf3b"
            }
        },
        {
            "cell_type": "code",
            "source": [
                "docker container ls -a"
            ],
            "metadata": {
                "azdata_cell_guid": "df2aa5e4-be77-4e22-a7e9-cb35dba2dcf3"
            },
            "outputs": [],
            "execution_count": 10
        },
        {
            "cell_type": "markdown",
            "source": [
                "## Grant permissions to SQL on the volume"
            ],
            "metadata": {
                "azdata_cell_guid": "86e9b247-168a-4a5e-84e9-487308b906e1"
            }
        },
        {
            "cell_type": "code",
            "source": [
                "docker exec -u 0 testcontainer9 bash -c \"chown mssql /var/opt/sqlserver\""
            ],
            "metadata": {
                "azdata_cell_guid": "19e5f00f-a5ee-4c85-8327-d91f1ddecd24"
            },
            "outputs": [],
            "execution_count": 13
        },
        {
            "cell_type": "markdown",
            "source": [
                "## Create database on volume"
            ],
            "metadata": {
                "azdata_cell_guid": "c201704e-1740-48fe-98bb-f31c21ffd01f"
            }
        },
        {
            "cell_type": "code",
            "source": [
                "mssql-cli -S localhost,15999 -U sa -P Testing1122 `\n",
                "-Q \"CREATE DATABASE [testdatabase];\""
            ],
            "metadata": {
                "azdata_cell_guid": "9456ace4-996b-4520-b38f-f540eea7a3c6"
            },
            "outputs": [],
            "execution_count": 14
        },
        {
            "cell_type": "markdown",
            "source": [
                "## Check that the database is there"
            ],
            "metadata": {
                "azdata_cell_guid": "2bef7892-208f-4200-b887-8d075a21912a"
            }
        },
        {
            "cell_type": "code",
            "source": [
                "mssql-cli -S localhost,15999 -U sa -P Testing1122 `\n",
                "-Q \"SELECT name FROM sys.databases;\""
            ],
            "metadata": {
                "azdata_cell_guid": "3153adea-9966-4499-84fc-5db2d3c9d2f8"
            },
            "outputs": [],
            "execution_count": 15
        },
        {
            "cell_type": "markdown",
            "source": [
                "## Blow away the container"
            ],
            "metadata": {
                "azdata_cell_guid": "84b0da3e-f6b5-4ef0-8a95-947c3e3192cd"
            }
        },
        {
            "cell_type": "code",
            "source": [
                "docker container kill testcontainer9\n",
                "docker container rm testcontainer9"
            ],
            "metadata": {
                "azdata_cell_guid": "b970ff0a-3f38-4e3e-a375-8312466555d5"
            },
            "outputs": [],
            "execution_count": 16
        },
        {
            "cell_type": "markdown",
            "source": [
                "## Confirm that the container is gone"
            ],
            "metadata": {
                "azdata_cell_guid": "9a39318f-12c6-455c-a39f-7c59066ecf77"
            }
        },
        {
            "cell_type": "code",
            "source": [
                "docker container ls -a"
            ],
            "metadata": {
                "azdata_cell_guid": "2f519c66-01cf-4093-90bc-3f35181e288e"
            },
            "outputs": [],
            "execution_count": 17
        },
        {
            "cell_type": "markdown",
            "source": [
                "## Check that the named volume is still there"
            ],
            "metadata": {
                "azdata_cell_guid": "b4331339-d219-42dd-8ee7-c99315f21f99"
            }
        },
        {
            "cell_type": "code",
            "source": [
                "docker volume ls"
            ],
            "metadata": {
                "azdata_cell_guid": "c88d521a-97a7-4d57-b3cf-021156061edb"
            },
            "outputs": [],
            "execution_count": 18
        },
        {
            "cell_type": "markdown",
            "source": [
                "## Spin up another container"
            ],
            "metadata": {
                "azdata_cell_guid": "e1f13cf3-bce4-4c08-8e6a-f692f4cd2994"
            }
        },
        {
            "cell_type": "code",
            "source": [
                "docker container run -d -p 16100:1433 `\n",
                "--volume sqlserver:/var/opt/sqlserver `\n",
                "--env ACCEPT_EULA=Y `\n",
                "--env SA_PASSWORD=Testing1122 `\n",
                "--env MSSQL_DATA_DIR=/var/opt/sqlserver `\n",
                "--env MSSQL_LOG_DIR=/var/opt/sqlserver `\n",
                "--name testcontainer10 `\n",
                "mcr.microsoft.com/mssql/server:2019-GDR1-ubuntu-16.04"
            ],
            "metadata": {
                "azdata_cell_guid": "dd9c434d-be36-42b9-b60a-b552bae890ae"
            },
            "outputs": [],
            "execution_count": 19
        },
        {
            "cell_type": "markdown",
            "source": [
                "## Verify container is running"
            ],
            "metadata": {
                "azdata_cell_guid": "6843b3b4-775f-47df-af0c-77c1c4c4780c"
            }
        },
        {
            "cell_type": "code",
            "source": [
                "docker container ls -a"
            ],
            "metadata": {
                "azdata_cell_guid": "39b678b8-0997-4541-a74e-abe0fd13f7af"
            },
            "outputs": [],
            "execution_count": 20
        },
        {
            "cell_type": "markdown",
            "source": [
                "## Check that the database files are there"
            ],
            "metadata": {
                "azdata_cell_guid": "acded66b-3a34-4933-8639-03f5fde7691a"
            }
        },
        {
            "cell_type": "code",
            "source": [
                "docker container exec testcontainer10 bash -c \"ls -al /var/opt/sqlserver\""
            ],
            "metadata": {
                "azdata_cell_guid": "40a3ca2e-a325-415e-867f-589d760901c7"
            },
            "outputs": [],
            "execution_count": 21
        },
        {
            "cell_type": "markdown",
            "source": [
                "## Re-create database"
            ],
            "metadata": {
                "azdata_cell_guid": "cc767d49-6c6a-417d-a2fd-19fbb9c7d6fd"
            }
        },
        {
            "cell_type": "code",
            "source": [
                "mssql-cli -S localhost,16100 -U sa -P Testing1122 `\n",
                "-Q \"CREATE DATABASE [testdatabase] ON \n",
                "(FILENAME = '/var/opt/sqlserver/testdatabase.mdf'), \n",
                "(FILENAME = '/var/opt/sqlserver/testdatabase_log.ldf') FOR ATTACH;\""
            ],
            "metadata": {
                "azdata_cell_guid": "d79b7fe2-785d-4974-8f4d-ecdc8ce9c79e"
            },
            "outputs": [],
            "execution_count": 22
        },
        {
            "cell_type": "markdown",
            "source": [
                "## Check that the database is there"
            ],
            "metadata": {
                "azdata_cell_guid": "cbda3f70-b212-4944-a961-87d44f8971f4"
            }
        },
        {
            "cell_type": "code",
            "source": [
                "mssql-cli -S localhost,16100 -U sa -P Testing1122 `\n",
                "-Q \"SELECT name FROM sys.databases;\""
            ],
            "metadata": {
                "azdata_cell_guid": "f6ffed57-0e11-43db-91ff-4c458582c903"
            },
            "outputs": [],
            "execution_count": 23
        },
        {
            "cell_type": "markdown",
            "source": [
                "## Clean up"
            ],
            "metadata": {
                "azdata_cell_guid": "9e3cf4d5-638c-4c5b-8bfc-134abf867596"
            }
        },
        {
            "cell_type": "code",
            "source": [
                "docker container kill testcontainer10\n",
                "docker container rm testcontainer10\n",
                "docker volume rm sqlserver\n",
                "docker volume prune -f"
            ],
            "metadata": {
                "azdata_cell_guid": "b962ae88-60ef-4c26-bd33-abb9d253a21e"
            },
            "outputs": [],
            "execution_count": 24
        },
        {
            "cell_type": "markdown",
            "source": [
                "## It's all a bit manual though..."
            ],
            "metadata": {
                "azdata_cell_guid": "9ebc6bae-063d-45e6-9c9d-fd1ef78b15c3"
            }
        },
        {
            "cell_type": "code",
            "source": [
                "docker volume create mssqlsystem\n",
                "docker volume create mssqluser"
            ],
            "metadata": {
                "azdata_cell_guid": "823ff62e-a69e-4646-9f8d-8f1c96cfbcc1"
            },
            "outputs": [],
            "execution_count": 25
        },
        {
            "cell_type": "markdown",
            "source": [
                "## Confirm the volumes are there"
            ],
            "metadata": {
                "azdata_cell_guid": "30f3020f-2776-4820-8b42-8825646068ab"
            }
        },
        {
            "cell_type": "code",
            "source": [
                "docker volume ls"
            ],
            "metadata": {
                "azdata_cell_guid": "cce5f747-539f-4da2-bd01-21accd9433ed"
            },
            "outputs": [],
            "execution_count": 26
        },
        {
            "cell_type": "markdown",
            "source": [
                "## Spin up a container with the volumes mapped"
            ],
            "metadata": {
                "azdata_cell_guid": "e4dfd672-b7e0-493d-be3f-1808af6b708b"
            }
        },
        {
            "cell_type": "code",
            "source": [
                "docker container run -d -p 16110:1433 `\n",
                "--volume mssqlsystem:/var/opt/mssql `\n",
                "--volume mssqluser:/var/opt/sqlserver `\n",
                "--env ACCEPT_EULA=Y `\n",
                "--env SA_PASSWORD=Testing1122 `\n",
                "--env MSSQL_DATA_DIR=/var/opt/sqlserver `\n",
                "--env MSSQL_LOG_DIR=/var/opt/sqlserver `\n",
                "--name testcontainer11 `\n",
                "mcr.microsoft.com/mssql/server:2019-GDR1-ubuntu-16.04"
            ],
            "metadata": {
                "azdata_cell_guid": "78af0d5d-da7f-4192-bcf2-e093668c5c9c"
            },
            "outputs": [],
            "execution_count": 27
        },
        {
            "cell_type": "markdown",
            "source": [
                "## Check that the container is running"
            ],
            "metadata": {
                "azdata_cell_guid": "48135728-5a6f-462c-bc57-1c56b48a1d0f"
            }
        },
        {
            "cell_type": "code",
            "source": [
                "docker container ls -a"
            ],
            "metadata": {
                "azdata_cell_guid": "114ef76b-5fe8-4669-b01d-9ca6523d87ef"
            },
            "outputs": [],
            "execution_count": 28
        },
        {
            "cell_type": "markdown",
            "source": [
                "## Grant SQL access to volume"
            ],
            "metadata": {
                "azdata_cell_guid": "0417e66e-4c9d-4f09-b6c2-50dcfc5ce68b"
            }
        },
        {
            "cell_type": "code",
            "source": [
                "docker exec -u 0 testcontainer11 bash -c \"chown mssql /var/opt/sqlserver\""
            ],
            "metadata": {
                "azdata_cell_guid": "65c19629-016a-46c1-a8b9-621060aaab40"
            },
            "outputs": [],
            "execution_count": 29
        },
        {
            "cell_type": "markdown",
            "source": [
                "## Create a database on the volume"
            ],
            "metadata": {
                "azdata_cell_guid": "bb643a31-3714-4aee-a555-6943447b67eb"
            }
        },
        {
            "cell_type": "code",
            "source": [
                "mssql-cli -S localhost,16110 -U sa -P Testing1122 `\n",
                "-Q \"CREATE DATABASE [testdatabase]\""
            ],
            "metadata": {
                "azdata_cell_guid": "c5e6eea3-465d-46a8-a48a-95ee8c62c825"
            },
            "outputs": [],
            "execution_count": 30
        },
        {
            "cell_type": "markdown",
            "source": [
                "## Check that the database is there"
            ],
            "metadata": {
                "azdata_cell_guid": "fba961eb-86bb-49aa-b37e-33695e4f67a5"
            }
        },
        {
            "cell_type": "code",
            "source": [
                "mssql-cli -S localhost,16110 -U sa -P Testing1122 `\n",
                "-Q \"SELECT name FROM sys.databases;\""
            ],
            "metadata": {
                "azdata_cell_guid": "b5c6f9e4-5c63-4b59-81a2-392d88046063"
            },
            "outputs": [],
            "execution_count": 34
        },
        {
            "cell_type": "markdown",
            "source": [
                "## Blow away the container"
            ],
            "metadata": {
                "azdata_cell_guid": "8a1623fd-7be3-4ec8-9cce-040e383f674b"
            }
        },
        {
            "cell_type": "code",
            "source": [
                "docker kill testcontainer11\n",
                "docker rm testcontainer11"
            ],
            "metadata": {
                "azdata_cell_guid": "87753eac-75ea-4a95-a9ae-39f3b845ac10"
            },
            "outputs": [],
            "execution_count": 35
        },
        {
            "cell_type": "markdown",
            "source": [
                "## Confirm that the container is gone"
            ],
            "metadata": {
                "azdata_cell_guid": "27b910de-240a-4976-be18-8c4f91bd7fbd"
            }
        },
        {
            "cell_type": "code",
            "source": [
                "docker container ls -a"
            ],
            "metadata": {
                "azdata_cell_guid": "55f5d019-aa01-4bb0-b1bf-25fb150698b4"
            },
            "outputs": [],
            "execution_count": 36
        },
        {
            "cell_type": "markdown",
            "source": [
                "## Confirm that the volumes are still there"
            ],
            "metadata": {
                "azdata_cell_guid": "da93a39c-fe26-4ea3-a1a2-cd60d0877536"
            }
        },
        {
            "cell_type": "code",
            "source": [
                "docker volume ls"
            ],
            "metadata": {
                "azdata_cell_guid": "5d84663a-851d-4ad0-933e-1f75b03a9489"
            },
            "outputs": [],
            "execution_count": 37
        },
        {
            "cell_type": "markdown",
            "source": [
                "## Spin up another container with the volumes mapped"
            ],
            "metadata": {
                "azdata_cell_guid": "e851a848-6a05-4d00-bb99-aacea12b198e"
            }
        },
        {
            "cell_type": "code",
            "source": [
                "docker container run -d -p 16120:1433 `\n",
                "--volume mssqlsystem:/var/opt/mssql `\n",
                "--volume mssqluser:/var/opt/sqlserver `\n",
                "--env ACCEPT_EULA=Y `\n",
                "--env SA_PASSWORD=Testing1122 `\n",
                "--env MSSQL_DATA_DIR=/var/opt/sqlserver `\n",
                "--env MSSQL_LOG_DIR=/var/opt/sqlserver `\n",
                "--name testcontainer12 `\n",
                "mcr.microsoft.com/mssql/server:2019-GDR1-ubuntu-16.04"
            ],
            "metadata": {
                "azdata_cell_guid": "08c5f80a-f8ec-4a45-92b0-a7af82ece6a0"
            },
            "outputs": [],
            "execution_count": 38
        },
        {
            "cell_type": "markdown",
            "source": [
                "## Confirm database is there"
            ],
            "metadata": {
                "azdata_cell_guid": "58ae671e-24c2-4a01-81be-33aa8ceef0dc"
            }
        },
        {
            "cell_type": "code",
            "source": [
                "mssql-cli -S localhost,16120 -U sa -P Testing1122 `\n",
                "-Q \"SELECT name FROM sys.databases;\""
            ],
            "metadata": {
                "azdata_cell_guid": "6514d68b-9e20-44a4-b735-220aeeff7017"
            },
            "outputs": [],
            "execution_count": 40
        },
        {
            "cell_type": "markdown",
            "source": [
                "## Clean up"
            ],
            "metadata": {
                "azdata_cell_guid": "224869b4-0f70-4f54-9264-a735bc0ee144"
            }
        },
        {
            "cell_type": "code",
            "source": [
                "docker container kill testcontainer12\n",
                "docker container rm testcontainer12\n",
                "docker volume rm mssqlsystem\n",
                "docker volume rm mssqluser"
            ],
            "metadata": {
                "azdata_cell_guid": "193c4d2d-0d4f-4e0d-921f-0cf6cc95fe43"
            },
            "outputs": [],
            "execution_count": 41
        }
    ]
}